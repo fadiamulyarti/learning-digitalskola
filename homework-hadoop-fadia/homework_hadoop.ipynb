{
  "cells": [
    {
      "cell_type": "markdown",
      "metadata": {
        "id": "SypF2Xj6OvmD"
      },
      "source": [
        "# Installing Java 8"
      ]
    },
    {
      "cell_type": "code",
      "execution_count": 1,
      "metadata": {
        "colab": {
          "base_uri": "https://localhost:8080/"
        },
        "id": "lqfPfV3BIxlK",
        "outputId": "0a62b68c-ef9e-4d7c-e05f-338234b491bc"
      },
      "outputs": [
        {
          "output_type": "stream",
          "name": "stdout",
          "text": [
            "openjdk version \"1.8.0_442\"\n",
            "OpenJDK Runtime Environment (build 1.8.0_442-8u442-b06~us1-0ubuntu1~22.04-b06)\n",
            "OpenJDK 64-Bit Server VM (build 25.442-b06, mixed mode)\n",
            "openjdk version \"1.8.0_442\"\n",
            "OpenJDK Runtime Environment (build 1.8.0_442-8u442-b06~us1-0ubuntu1~22.04-b06)\n",
            "OpenJDK 64-Bit Server VM (build 25.442-b06, mixed mode)\n",
            "/usr/lib/jvm/java-8-openjdk-amd64/jre/\n",
            " * Starting OpenBSD Secure Shell server sshd\n",
            "   ...done.\n",
            "#Port 22\n",
            "#GatewayPorts no\n",
            "Generating public/private rsa key pair.\n",
            "/root/.ssh/id_rsa already exists.\n",
            "Overwrite (y/n)? Your identification has been saved in /root/.ssh/id_rsa\n",
            "Your public key has been saved in /root/.ssh/id_rsa.pub\n",
            "The key fingerprint is:\n",
            "SHA256:FqLWFfwoYn8Vg7MY75ugKhKg3/1qWbs1y3uVY+j047I root@2ff5eb2dc3ee\n",
            "The key's randomart image is:\n",
            "+---[RSA 3072]----+\n",
            "|       ...       |\n",
            "|      . +.o      |\n",
            "|      .+o= o     |\n",
            "|.   oooo+.o      |\n",
            "|o  .oo.oS.   . . |\n",
            "|o  .  o.+   o =  |\n",
            "| o . o = +oo + . |\n",
            "|o . o + +o o+ o  |\n",
            "|.... ..oo.+oE+.. |\n",
            "+----[SHA256]-----+\n",
            "ssh-rsa AAAAB3NzaC1yc2EAAAADAQABAAABgQDQ5dDDKX38uFxTgNe/skRKcVdYnkI9DPD0tcQJX6nBkPSJoWo743uWY8XTfqRv\n",
            "ruUhjwwX5Zl5oThGs56eZ0OYTzhVTMNNPMnBGwT+A2iljXaW9z1wcXh3r/6OUM4xoQ67qo1uNL/3oKS1BNVKXBElNDzAIzOtxlIG\n",
            "kTLUS1iUD9BJ/dfrWo6kGfUmGBv45OBMfKhutJyNS1dPnhLACd9M+mLkLDgLvU/LCPU2XpAIM01P9Lag3uXAJ5hHPcpu9jnaHZ0k\n",
            "hhpjlmvkJzuLdC7lPJK2sJDQkAXvgyOIsqQk3e22TUitWUC4mlukQ1LgBkKapl+rCo/b1ElXjlAd7D/2ueX98NG786abP0wuc23/\n",
            "bHd9XaBf4VcBd2X8Bf8lcwn9cc0BaRHQT7f2u1KGN//jgpevjarMlhOqSjV2JXpTKrGT7N0TptPWkP5Ihy/LV/FWU2F/WZxs/bws\n",
            "tEu7HZl5RZ84+yAkqbNg563WRSRFjMPyvQVlt1pI2GYuAoi8HKs= root@2ff5eb2dc3ee\n",
            " 14:49:31 up 7 min,  0 users,  load average: 0.60, 1.11, 0.66\n"
          ]
        }
      ],
      "source": [
        "!apt-get install openjdk-8-jdk-headless -qq > /dev/null\n",
        "!java -version\n",
        "\n",
        "!update-alternatives --set java /usr/lib/jvm/java-8-openjdk-amd64/jre/bin/java\n",
        "!update-alternatives --set javac /usr/lib/jvm/java-8-openjdk-amd64/bin/javac\n",
        "!update-alternatives --set jps /usr/lib/jvm/java-8-openjdk-amd64/bin/jps\n",
        "!java -version\n",
        "\n",
        "#Finding the default Java path\n",
        "!readlink -f /usr/bin/java | sed \"s:bin/java::\"\n",
        "!apt-get install openssh-server -qq > /dev/null\n",
        "!service ssh start\n",
        "\n",
        "!grep Port /etc/ssh/sshd_config\n",
        "\n",
        "#Creating a new rsa key pair with empty password\n",
        "!ssh-keygen -t rsa -P \"\" -f ~/.ssh/id_rsa <<< y\n",
        "\n",
        "# See id_rsa.pub content\n",
        "!more /root/.ssh/id_rsa.pub\n",
        "\n",
        "#Copying the key to autorized keys\n",
        "!cat $HOME/.ssh/id_rsa.pub > $HOME/.ssh/authorized_keys\n",
        "#Changing the permissions on the key\n",
        "!chmod 0600 ~/.ssh/authorized_keys\n",
        "\n",
        "#Conneting with the local machine\n",
        "!ssh -o StrictHostKeyChecking=no localhost uptime\n",
        "\n",
        "# https://archive.apache.org/dist/hadoop/common/hadoop-3.2.3/hadoop-3.2.3.tar.gz\n",
        "# mirror download: http://mirrors.cloud.aliyuncs.com/apache/hadoop/common/hadoop-3.2.4/hadoop-3.2.4.tar.gz\n",
        "\n",
        "#Downloading Hadoop 3.2.4\n",
        "!wget -q https://downloads.apache.org/hadoop/common/hadoop-3.2.4/hadoop-3.2.4.tar.gz\n",
        "\n",
        "#Untarring the file\n",
        "!sudo tar -xzf hadoop-3.2.4.tar.gz\n",
        "#Removing the tar file\n",
        "!rm hadoop-3.2.4.tar.gz\n",
        "\n",
        "\n",
        "#Copying the hadoop files to user/local\n",
        "!cp -r hadoop-3.2.4/ /usr/local/\n",
        "#-r copy directories recursively\n",
        "\n",
        "#Adding JAVA_HOME directory to hadoop-env.sh file\n",
        "!sed -i '/export JAVA_HOME=/a export JAVA_HOME=\\/usr\\/lib\\/jvm\\/java-8-openjdk-amd64' /usr/local/hadoop-3.2.4/etc/hadoop/hadoop-env.sh\n",
        "\n",
        "import os\n",
        "#Creating environment variables\n",
        "#Creating Hadoop home variable\n",
        "\n",
        "os.environ[\"HADOOP_HOME\"] = \"/usr/local/hadoop-3.2.4\"\n",
        "os.environ[\"JAVA_HOME\"] = \"/usr/lib/jvm/java-8-openjdk-amd64\"\n",
        "os.environ[\"JRE_HOME\"] = \"/usr/lib/jvm/java-8-openjdk-amd64/jre\"\n",
        "os.environ[\"PATH\"] += f'{os.environ[\"JAVA_HOME\"]}/bin:{os.environ[\"JRE_HOME\"]}/bin:{os.environ[\"HADOOP_HOME\"]}/sbin'\n",
        "\n",
        "#Dowloading text example to use as input\n",
        "!wget -q https://www.mirrorservice.org/sites/ftp.ibiblio.org/pub/docs/books/gutenberg/1/0/101/101.txt"
      ]
    },
    {
      "cell_type": "code",
      "execution_count": 2,
      "metadata": {
        "id": "qK_Ozh8RVza-"
      },
      "outputs": [],
      "source": [
        "#Adding required property to core-site.xml file\n",
        "%%bash\n",
        "cat <<EOF > $HADOOP_HOME/etc/hadoop/core-site.xml\n",
        "<?xml version=\"1.0\" encoding=\"UTF-8\"?>\n",
        "<?xml-stylesheet type=\"text/xsl\" href=\"configuration.xsl\"?>\n",
        "<!--\n",
        "  Licensed under the Apache License, Version 2.0 (the \"License\");\n",
        "  you may not use this file except in compliance with the License.\n",
        "  You may obtain a copy of the License at\n",
        "\n",
        "    http://www.apache.org/licenses/LICENSE-2.0\n",
        "\n",
        "  Unless required by applicable law or agreed to in writing, software\n",
        "  distributed under the License is distributed on an \"AS IS\" BASIS,\n",
        "  WITHOUT WARRANTIES OR CONDITIONS OF ANY KIND, either express or implied.\n",
        "  See the License for the specific language governing permissions and\n",
        "  limitations under the License. See accompanying LICENSE file.\n",
        "-->\n",
        "\n",
        "<!-- Put site-specific property overrides in this file. -->\n",
        "\n",
        "<configuration>\n",
        "  <property>\n",
        "          <name>fs.defaultFS</name>\n",
        "          <value>hdfs://localhost:9000</value>\n",
        "          <description>Where HDFS NameNode can be found on the network</description>\n",
        "  </property>\n",
        "</configuration>\n",
        "EOF"
      ]
    },
    {
      "cell_type": "code",
      "execution_count": 3,
      "metadata": {
        "id": "iRlijZzZ5_IQ"
      },
      "outputs": [],
      "source": [
        "%%bash\n",
        "cat <<EOF > $HADOOP_HOME/etc/hadoop/hdfs-site.xml\n",
        "<?xml version=\"1.0\" encoding=\"UTF-8\"?>\n",
        "<?xml-stylesheet type=\"text/xsl\" href=\"configuration.xsl\"?>\n",
        "<!--\n",
        "  Licensed under the Apache License, Version 2.0 (the \"License\");\n",
        "  you may not use this file except in compliance with the License.\n",
        "  You may obtain a copy of the License at\n",
        "\n",
        "    http://www.apache.org/licenses/LICENSE-2.0\n",
        "\n",
        "  Unless required by applicable law or agreed to in writing, software\n",
        "  distributed under the License is distributed on an \"AS IS\" BASIS,\n",
        "  WITHOUT WARRANTIES OR CONDITIONS OF ANY KIND, either express or implied.\n",
        "  See the License for the specific language governing permissions and\n",
        "  limitations under the License. See accompanying LICENSE file.\n",
        "-->\n",
        "\n",
        "<!-- Put site-specific property overrides in this file. -->\n",
        "\n",
        "<configuration>\n",
        "<property>\n",
        "    <name>dfs.replication</name>\n",
        "    <value>1</value>\n",
        "  </property>\n",
        "\n",
        "</configuration>\n",
        "EOF"
      ]
    },
    {
      "cell_type": "code",
      "execution_count": 4,
      "metadata": {
        "id": "oI7EXvcy8x5Q"
      },
      "outputs": [],
      "source": [
        "%%bash\n",
        "cat <<EOF > $HADOOP_HOME/etc/hadoop/mapred-site.xml\n",
        "<?xml version=\"1.0\"?>\n",
        "<?xml-stylesheet type=\"text/xsl\" href=\"configuration.xsl\"?>\n",
        "<!--\n",
        "  Licensed under the Apache License, Version 2.0 (the \"License\");\n",
        "  you may not use this file except in compliance with the License.\n",
        "  You may obtain a copy of the License at\n",
        "\n",
        "    http://www.apache.org/licenses/LICENSE-2.0\n",
        "\n",
        "  Unless required by applicable law or agreed to in writing, software\n",
        "  distributed under the License is distributed on an \"AS IS\" BASIS,\n",
        "  WITHOUT WARRANTIES OR CONDITIONS OF ANY KIND, either express or implied.\n",
        "  See the License for the specific language governing permissions and\n",
        "  limitations under the License. See accompanying LICENSE file.\n",
        "-->\n",
        "\n",
        "<!-- Put site-specific property overrides in this file. -->\n",
        "\n",
        "<configuration>\n",
        "<property>\n",
        "    <name>mapreduce.framework.name</name>\n",
        "    <value>yarn</value>\n",
        "  </property>\n",
        "  <property>\n",
        "    <name>mapreduce.application.classpath</name>\n",
        "    <value>$HADOOP_HOME/share/hadoop/mapreduce/*:$HADOOP_HOME/share/hadoop/mapreduce/lib/*</value>\n",
        "  </property>\n",
        "\n",
        "</configuration>\n",
        "EOF"
      ]
    },
    {
      "cell_type": "code",
      "execution_count": 5,
      "metadata": {
        "id": "VXqsVh1M9Pxu"
      },
      "outputs": [],
      "source": [
        "%%bash\n",
        "cat <<EOF > $HADOOP_HOME/etc/hadoop/yarn-site.xml\n",
        "<?xml version=\"1.0\"?>\n",
        "<!--\n",
        "  Licensed under the Apache License, Version 2.0 (the \"License\");\n",
        "  you may not use this file except in compliance with the License.\n",
        "  You may obtain a copy of the License at\n",
        "\n",
        "    http://www.apache.org/licenses/LICENSE-2.0\n",
        "\n",
        "  Unless required by applicable law or agreed to in writing, software\n",
        "  distributed under the License is distributed on an \"AS IS\" BASIS,\n",
        "  WITHOUT WARRANTIES OR CONDITIONS OF ANY KIND, either express or implied.\n",
        "  See the License for the specific language governing permissions and\n",
        "  limitations under the License. See accompanying LICENSE file.\n",
        "-->\n",
        "<configuration>\n",
        "<property>\n",
        "    <description>The hostname of the RM.</description>\n",
        "    <name>yarn.resourcemanager.hostname</name>\n",
        "    <value>localhost</value>\n",
        "  </property>\n",
        "  <property>\n",
        "    <name>yarn.nodemanager.aux-services</name>\n",
        "    <value>mapreduce_shuffle</value>\n",
        "  </property>\n",
        "  <property>\n",
        "    <name>yarn.nodemanager.env-whitelist</name>\n",
        "    <value>JAVA_HOME,HADOOP_COMMON_HOME,HADOOP_HDFS_HOME,HADOOP_CONF_DIR,CLASSPATH_PREPEND_DISTCACHE,HADOOP_YARN_HOME,HADOOP_HOME,PATH,LANG,TZ,HADOOP_MAPRED_HOME</value>\n",
        "  </property>\n",
        "\n",
        "<!-- Site specific YARN configuration properties -->\n",
        "\n",
        "</configuration>\n",
        "EOF"
      ]
    },
    {
      "cell_type": "code",
      "source": [
        "!cat $HADOOP_HOME/etc/hadoop/core-site.xml"
      ],
      "metadata": {
        "colab": {
          "base_uri": "https://localhost:8080/"
        },
        "id": "4461KHi8yIHQ",
        "outputId": "c6ed6c0f-b453-4195-d383-252f6c121439"
      },
      "execution_count": 6,
      "outputs": [
        {
          "output_type": "stream",
          "name": "stdout",
          "text": [
            "<?xml version=\"1.0\" encoding=\"UTF-8\"?>\n",
            "<?xml-stylesheet type=\"text/xsl\" href=\"configuration.xsl\"?>\n",
            "<!--\n",
            "  Licensed under the Apache License, Version 2.0 (the \"License\");\n",
            "  you may not use this file except in compliance with the License.\n",
            "  You may obtain a copy of the License at\n",
            "\n",
            "    http://www.apache.org/licenses/LICENSE-2.0\n",
            "\n",
            "  Unless required by applicable law or agreed to in writing, software\n",
            "  distributed under the License is distributed on an \"AS IS\" BASIS,\n",
            "  WITHOUT WARRANTIES OR CONDITIONS OF ANY KIND, either express or implied.\n",
            "  See the License for the specific language governing permissions and\n",
            "  limitations under the License. See accompanying LICENSE file.\n",
            "-->\n",
            "\n",
            "<!-- Put site-specific property overrides in this file. -->\n",
            "\n",
            "<configuration>\n",
            "  <property>\n",
            "          <name>fs.defaultFS</name>\n",
            "          <value>hdfs://localhost:9000</value>\n",
            "          <description>Where HDFS NameNode can be found on the network</description>\n",
            "  </property>\n",
            "</configuration>\n"
          ]
        }
      ]
    },
    {
      "cell_type": "markdown",
      "metadata": {
        "id": "WeDr2ydyXYFK"
      },
      "source": [
        "# Formatting the HDFS Filesystem"
      ]
    },
    {
      "cell_type": "code",
      "execution_count": 7,
      "metadata": {
        "colab": {
          "base_uri": "https://localhost:8080/"
        },
        "id": "vmrjTfnQ9rzL",
        "outputId": "e20a3f32-b8b0-496f-8400-dd62ab8ce753"
      },
      "outputs": [
        {
          "output_type": "stream",
          "name": "stdout",
          "text": [
            "namenode is running as process 1480.  Stop it first and ensure /tmp/hadoop-root-namenode.pid file is empty before retry.\n",
            "Starting namenodes on [localhost]\n",
            "localhost: namenode is running as process 1480.  Stop it first and ensure /tmp/hadoop-root-namenode.pid file is empty before retry.\n",
            "Starting datanodes\n",
            "localhost: datanode is running as process 1592.  Stop it first and ensure /tmp/hadoop-root-datanode.pid file is empty before retry.\n",
            "Starting secondary namenodes [2ff5eb2dc3ee]\n",
            "2ff5eb2dc3ee: secondarynamenode is running as process 1778.  Stop it first and ensure /tmp/hadoop-root-secondarynamenode.pid file is empty before retry.\n",
            "nohup: ignoring input and appending output to 'nohup.out'\n",
            "1778 SecondaryNameNode\n",
            "4803 ResourceManager\n",
            "1480 NameNode\n",
            "2136 NodeManager\n",
            "4972 Jps\n"
          ]
        }
      ],
      "source": [
        "!$HADOOP_HOME/bin/hdfs namenode -format\n",
        "\n",
        "#Creating other necessary enviroment variables before starting nodes\n",
        "os.environ[\"HDFS_NAMENODE_USER\"] = \"root\"\n",
        "os.environ[\"HDFS_DATANODE_USER\"] = \"root\"\n",
        "os.environ[\"HDFS_SECONDARYNAMENODE_USER\"] = \"root\"\n",
        "os.environ[\"YARN_RESOURCEMANAGER_USER\"] = \"root\"\n",
        "os.environ[\"YARN_NODEMANAGER_USER\"] = \"root\"\n",
        "\n",
        "#Launching hdfs deamons\n",
        "!$HADOOP_HOME/sbin/start-dfs.sh\n",
        "\n",
        "#Launching yarn deamons\n",
        "#nohup causes a process to ignore a SIGHUP signal\n",
        "!nohup $HADOOP_HOME/sbin/start-yarn.sh\n",
        "\n",
        "#Listing the running deamons\n",
        "!jps"
      ]
    },
    {
      "cell_type": "markdown",
      "metadata": {
        "id": "srV27xSGXu5O"
      },
      "source": [
        "### Monitoring Hadoop cluster with hadoop admin commands"
      ]
    },
    {
      "cell_type": "code",
      "execution_count": 8,
      "metadata": {
        "colab": {
          "base_uri": "https://localhost:8080/"
        },
        "id": "zUxnt00v_wqC",
        "outputId": "80cb08c0-22f4-4a62-cd36-ee6d633b6479"
      },
      "outputs": [
        {
          "output_type": "stream",
          "name": "stdout",
          "text": [
            "Configured Capacity: 115658190848 (107.72 GB)\n",
            "Present Capacity: 73759509080 (68.69 GB)\n",
            "DFS Remaining: 73759215616 (68.69 GB)\n",
            "DFS Used: 293464 (286.59 KB)\n",
            "DFS Used%: 0.00%\n",
            "Replicated Blocks:\n",
            "\tUnder replicated blocks: 0\n",
            "\tBlocks with corrupt replicas: 0\n",
            "\tMissing blocks: 0\n",
            "\tMissing blocks (with replication factor 1): 0\n",
            "\tLow redundancy blocks with highest priority to recover: 0\n",
            "\tPending deletion blocks: 0\n",
            "Erasure Coded Block Groups: \n",
            "\tLow redundancy block groups: 0\n",
            "\tBlock groups with corrupt internal blocks: 0\n",
            "\tMissing block groups: 0\n",
            "\tLow redundancy blocks with highest priority to recover: 0\n",
            "\tPending deletion blocks: 0\n",
            "\n",
            "-------------------------------------------------\n",
            "Live datanodes (1):\n",
            "\n",
            "Name: 127.0.0.1:9866 (localhost)\n",
            "Hostname: 2ff5eb2dc3ee\n",
            "Decommission Status : Normal\n",
            "Configured Capacity: 115658190848 (107.72 GB)\n",
            "DFS Used: 293464 (286.59 KB)\n",
            "Non DFS Used: 41881904552 (39.01 GB)\n",
            "DFS Remaining: 73759215616 (68.69 GB)\n",
            "DFS Used%: 0.00%\n",
            "DFS Remaining%: 63.77%\n",
            "Configured Cache Capacity: 0 (0 B)\n",
            "Cache Used: 0 (0 B)\n",
            "Cache Remaining: 0 (0 B)\n",
            "Cache Used%: 100.00%\n",
            "Cache Remaining%: 0.00%\n",
            "Xceivers: 1\n",
            "Last contact: Thu Mar 13 14:50:01 UTC 2025\n",
            "Last Block Report: Thu Mar 13 14:46:08 UTC 2025\n",
            "Num of Blocks: 5\n",
            "\n",
            "\n"
          ]
        }
      ],
      "source": [
        "#Report the basic file system information and statistics\n",
        "!$HADOOP_HOME/bin/hdfs dfsadmin -report"
      ]
    },
    {
      "cell_type": "markdown",
      "metadata": {
        "id": "2Cq8XtDRTBHD"
      },
      "source": [
        "# Hadoop Streaming Using Python"
      ]
    },
    {
      "cell_type": "code",
      "execution_count": 10,
      "metadata": {
        "colab": {
          "base_uri": "https://localhost:8080/"
        },
        "id": "k_Dk8vLYTDqt",
        "outputId": "e2619bde-2b15-4ca4-a5c1-6cec59aca2fc"
      },
      "outputs": [
        {
          "output_type": "stream",
          "name": "stdout",
          "text": [
            "aliyun-java-sdk-core-4.5.10.jar      hadoop-gridmix-3.2.4.jar\n",
            "aliyun-java-sdk-kms-2.11.0.jar\t     hadoop-kafka-3.2.4.jar\n",
            "aliyun-java-sdk-ram-3.1.0.jar\t     hadoop-openstack-3.2.4.jar\n",
            "aliyun-sdk-oss-3.13.0.jar\t     hadoop-resourceestimator-3.2.4.jar\n",
            "aws-java-sdk-bundle-1.11.901.jar     hadoop-rumen-3.2.4.jar\n",
            "azure-data-lake-store-sdk-2.2.9.jar  hadoop-sls-3.2.4.jar\n",
            "azure-keyvault-core-1.0.0.jar\t     hadoop-streaming-3.2.4.jar\n",
            "azure-storage-7.0.0.jar\t\t     ini4j-0.5.4.jar\n",
            "hadoop-aliyun-3.2.4.jar\t\t     jdom2-2.0.6.jar\n",
            "hadoop-archive-logs-3.2.4.jar\t     kafka-clients-2.8.1.jar\n",
            "hadoop-archives-3.2.4.jar\t     lz4-java-1.7.1.jar\n",
            "hadoop-aws-3.2.4.jar\t\t     ojalgo-43.0.jar\n",
            "hadoop-azure-3.2.4.jar\t\t     opentracing-api-0.33.0.jar\n",
            "hadoop-azure-datalake-3.2.4.jar      opentracing-noop-0.33.0.jar\n",
            "hadoop-datajoin-3.2.4.jar\t     opentracing-util-0.33.0.jar\n",
            "hadoop-distcp-3.2.4.jar\t\t     org.jacoco.agent-0.8.5-runtime.jar\n",
            "hadoop-extras-3.2.4.jar\t\t     wildfly-openssl-1.0.7.Final.jar\n",
            "hadoop-fs2img-3.2.4.jar\t\t     zstd-jni-1.4.9-1.jar\n"
          ]
        }
      ],
      "source": [
        "#Exploring Hadoop utilities available\n",
        "!ls $HADOOP_HOME/share/hadoop/tools/lib/"
      ]
    },
    {
      "cell_type": "code",
      "execution_count": 11,
      "metadata": {
        "id": "Nkl5QNWGHmX9"
      },
      "outputs": [],
      "source": [
        "#Dowloading text example to use as input (if it has not been donwloaded yet)\n",
        "!wget -q https://raw.githubusercontent.com/ayyoubmaul/hadoop-docker/refs/heads/main/data/uud45.txt"
      ]
    },
    {
      "cell_type": "code",
      "execution_count": null,
      "metadata": {
        "id": "f--LlKTSTHDe"
      },
      "outputs": [],
      "source": [
        "#Creating directory in HDFS\n",
        "!$HADOOP_HOME/bin/hdfs dfs -mkdir /word_count_with_python"
      ]
    },
    {
      "cell_type": "code",
      "execution_count": null,
      "metadata": {
        "id": "JjGgo6_PTMe5"
      },
      "outputs": [],
      "source": [
        "#Copying the file from local file system to Hadoop distributed file system (HDFS)\n",
        "!$HADOOP_HOME/bin/hdfs dfs -put /content/uud45.txt /word_count_with_python"
      ]
    },
    {
      "cell_type": "code",
      "source": [
        "!$HADOOP_HOME/bin/hdfs dfs -ls /word_count_with_python"
      ],
      "metadata": {
        "id": "1HQGBK2f6SI4",
        "colab": {
          "base_uri": "https://localhost:8080/"
        },
        "outputId": "e3b5c63a-0c51-49e9-955d-d193855ece0f"
      },
      "execution_count": 14,
      "outputs": [
        {
          "output_type": "stream",
          "name": "stdout",
          "text": [
            "Found 2 items\n",
            "drwxr-xr-x   - root supergroup          0 2025-03-13 14:47 /word_count_with_python/output\n",
            "-rw-r--r--   1 root supergroup       1412 2025-03-13 14:46 /word_count_with_python/uud45.txt\n"
          ]
        }
      ]
    },
    {
      "cell_type": "code",
      "execution_count": 15,
      "metadata": {
        "id": "DgnoB_WaTfrn",
        "colab": {
          "base_uri": "https://localhost:8080/"
        },
        "outputId": "9cc2790b-f891-431e-ddfd-dc76990448fb"
      },
      "outputs": [
        {
          "output_type": "stream",
          "name": "stdout",
          "text": [
            ":\t1\n",
            "abadi\t1\n",
            "adil\t2\n",
            "Allah\t1\n",
            "Atas\t1\n",
            "bagi\t1\n",
            "Bahwa\t1\n",
            "bangsa\t2\n",
            "bangsa,\t1\n",
            "bebas,\t1\n"
          ]
        }
      ],
      "source": [
        "#Testing our MapReduce job locally (Hadoop does not participate here)\n",
        "!cat /content/uud45.txt | python mapper.py | sort -k1,1 | python reducer.py | head -10\n",
        "#We apply sorting after the mapper because it is the default operation in MapReduce architecture"
      ]
    },
    {
      "cell_type": "code",
      "execution_count": 16,
      "metadata": {
        "id": "t5k-wHESTgc3"
      },
      "outputs": [],
      "source": [
        "#Changing the permissions of the files\n",
        "!chmod 777 /content/mapper.py /content/reducer.py\n",
        "#Setting 777 permissions to a file or directory means that it will be readable, writable and executable by all users"
      ]
    },
    {
      "cell_type": "code",
      "execution_count": 17,
      "metadata": {
        "colab": {
          "base_uri": "https://localhost:8080/"
        },
        "id": "PHuUF1kTTj-X",
        "outputId": "c5f66617-4dac-4211-e2a4-067bc00d9ee3"
      },
      "outputs": [
        {
          "output_type": "stream",
          "name": "stdout",
          "text": [
            "packageJobJar: [/tmp/hadoop-unjar196547411499004296/] [] /tmp/streamjob8771466128360379435.jar tmpDir=null\n",
            "2025-03-13 14:51:07,624 INFO client.RMProxy: Connecting to ResourceManager at localhost/127.0.0.1:8032\n",
            "2025-03-13 14:51:07,928 INFO client.RMProxy: Connecting to ResourceManager at localhost/127.0.0.1:8032\n",
            "2025-03-13 14:51:08,112 ERROR streaming.StreamJob: Error Launching job : Output directory hdfs://localhost:9000/word_count_with_python/output already exists\n",
            "Streaming Command Failed!\n"
          ]
        }
      ],
      "source": [
        "#Running MapReduce programs in hadoop\n",
        "!$HADOOP_HOME/bin/hadoop jar $HADOOP_HOME/share/hadoop/tools/lib/hadoop-streaming-3.2.4.jar \\\n",
        "  -input /word_count_with_python/uud45.txt \\\n",
        "  -output /word_count_with_python/output \\\n",
        "  -mapper \"python /content/mapper.py\" \\\n",
        "  -reducer \"python /content/reducer.py\""
      ]
    },
    {
      "cell_type": "code",
      "execution_count": 18,
      "metadata": {
        "colab": {
          "base_uri": "https://localhost:8080/"
        },
        "id": "C_nqizwZTmQ-",
        "outputId": "e3cb822a-536f-436c-e382-42b1a7b43674"
      },
      "outputs": [
        {
          "output_type": "stream",
          "name": "stdout",
          "text": [
            "Found 2 items\n",
            "-rw-r--r--   1 root supergroup          0 2025-03-13 14:47 /word_count_with_python/output/_SUCCESS\n",
            "-rw-r--r--   1 root supergroup       1276 2025-03-13 14:47 /word_count_with_python/output/part-00000\n"
          ]
        }
      ],
      "source": [
        "#Exploring the created output directory\n",
        "#part-r-00000 contains the actual ouput\n",
        "!$HADOOP_HOME/bin/hdfs dfs -ls /word_count_with_python/output"
      ]
    },
    {
      "cell_type": "code",
      "execution_count": 19,
      "metadata": {
        "colab": {
          "base_uri": "https://localhost:8080/"
        },
        "id": "EKRPU4UKTogT",
        "outputId": "2c744c1f-0875-4edd-b2d0-9292dc9c0f5b"
      },
      "outputs": [
        {
          "output_type": "stream",
          "name": "stdout",
          "text": [
            "2025-03-13 14:51:17,699 WARN impl.BlockReaderFactory: I/O error constructing remote block reader.\n",
            "java.net.ConnectException: Connection refused\n",
            "\tat sun.nio.ch.SocketChannelImpl.checkConnect(Native Method)\n",
            "\tat sun.nio.ch.SocketChannelImpl.finishConnect(SocketChannelImpl.java:716)\n",
            "\tat org.apache.hadoop.net.SocketIOWithTimeout.connect(SocketIOWithTimeout.java:205)\n",
            "\tat org.apache.hadoop.net.NetUtils.connect(NetUtils.java:535)\n",
            "\tat org.apache.hadoop.hdfs.DFSClient.newConnectedPeer(DFSClient.java:2973)\n",
            "\tat org.apache.hadoop.hdfs.client.impl.BlockReaderFactory.nextTcpPeer(BlockReaderFactory.java:826)\n",
            "\tat org.apache.hadoop.hdfs.client.impl.BlockReaderFactory.getRemoteBlockReaderFromTcp(BlockReaderFactory.java:751)\n",
            "\tat org.apache.hadoop.hdfs.client.impl.BlockReaderFactory.build(BlockReaderFactory.java:381)\n",
            "\tat org.apache.hadoop.hdfs.DFSInputStream.getBlockReader(DFSInputStream.java:733)\n",
            "\tat org.apache.hadoop.hdfs.DFSInputStream.blockSeekTo(DFSInputStream.java:664)\n",
            "\tat org.apache.hadoop.hdfs.DFSInputStream.readWithStrategy(DFSInputStream.java:849)\n",
            "\tat org.apache.hadoop.hdfs.DFSInputStream.read(DFSInputStream.java:921)\n",
            "\tat java.io.DataInputStream.read(DataInputStream.java:100)\n",
            "\tat org.apache.hadoop.io.IOUtils.copyBytes(IOUtils.java:94)\n",
            "\tat org.apache.hadoop.io.IOUtils.copyBytes(IOUtils.java:68)\n",
            "\tat org.apache.hadoop.io.IOUtils.copyBytes(IOUtils.java:129)\n",
            "\tat org.apache.hadoop.fs.shell.Display$Cat.printToStdout(Display.java:101)\n",
            "\tat org.apache.hadoop.fs.shell.Display$Cat.processPath(Display.java:96)\n",
            "\tat org.apache.hadoop.fs.shell.Command.processPathInternal(Command.java:367)\n",
            "\tat org.apache.hadoop.fs.shell.Command.processPaths(Command.java:331)\n",
            "\tat org.apache.hadoop.fs.shell.Command.processPathArgument(Command.java:304)\n",
            "\tat org.apache.hadoop.fs.shell.Command.processArgument(Command.java:286)\n",
            "\tat org.apache.hadoop.fs.shell.Command.processArguments(Command.java:270)\n",
            "\tat org.apache.hadoop.fs.shell.FsCommand.processRawArguments(FsCommand.java:120)\n",
            "\tat org.apache.hadoop.fs.shell.Command.run(Command.java:177)\n",
            "\tat org.apache.hadoop.fs.FsShell.run(FsShell.java:327)\n",
            "\tat org.apache.hadoop.util.ToolRunner.run(ToolRunner.java:76)\n",
            "\tat org.apache.hadoop.util.ToolRunner.run(ToolRunner.java:90)\n",
            "\tat org.apache.hadoop.fs.FsShell.main(FsShell.java:390)\n",
            "2025-03-13 14:51:17,714 WARN hdfs.DFSClient: Failed to connect to /127.0.0.1:9866 for file /word_count_with_python/output/part-00000 for block BP-661195382-172.28.0.12-1741877155949:blk_1073741832_1008, add to deadNodes and continue. \n",
            "java.net.ConnectException: Connection refused\n",
            "\tat sun.nio.ch.SocketChannelImpl.checkConnect(Native Method)\n",
            "\tat sun.nio.ch.SocketChannelImpl.finishConnect(SocketChannelImpl.java:716)\n",
            "\tat org.apache.hadoop.net.SocketIOWithTimeout.connect(SocketIOWithTimeout.java:205)\n",
            "\tat org.apache.hadoop.net.NetUtils.connect(NetUtils.java:535)\n",
            "\tat org.apache.hadoop.hdfs.DFSClient.newConnectedPeer(DFSClient.java:2973)\n",
            "\tat org.apache.hadoop.hdfs.client.impl.BlockReaderFactory.nextTcpPeer(BlockReaderFactory.java:826)\n",
            "\tat org.apache.hadoop.hdfs.client.impl.BlockReaderFactory.getRemoteBlockReaderFromTcp(BlockReaderFactory.java:751)\n",
            "\tat org.apache.hadoop.hdfs.client.impl.BlockReaderFactory.build(BlockReaderFactory.java:381)\n",
            "\tat org.apache.hadoop.hdfs.DFSInputStream.getBlockReader(DFSInputStream.java:733)\n",
            "\tat org.apache.hadoop.hdfs.DFSInputStream.blockSeekTo(DFSInputStream.java:664)\n",
            "\tat org.apache.hadoop.hdfs.DFSInputStream.readWithStrategy(DFSInputStream.java:849)\n",
            "\tat org.apache.hadoop.hdfs.DFSInputStream.read(DFSInputStream.java:921)\n",
            "\tat java.io.DataInputStream.read(DataInputStream.java:100)\n",
            "\tat org.apache.hadoop.io.IOUtils.copyBytes(IOUtils.java:94)\n",
            "\tat org.apache.hadoop.io.IOUtils.copyBytes(IOUtils.java:68)\n",
            "\tat org.apache.hadoop.io.IOUtils.copyBytes(IOUtils.java:129)\n",
            "\tat org.apache.hadoop.fs.shell.Display$Cat.printToStdout(Display.java:101)\n",
            "\tat org.apache.hadoop.fs.shell.Display$Cat.processPath(Display.java:96)\n",
            "\tat org.apache.hadoop.fs.shell.Command.processPathInternal(Command.java:367)\n",
            "\tat org.apache.hadoop.fs.shell.Command.processPaths(Command.java:331)\n",
            "\tat org.apache.hadoop.fs.shell.Command.processPathArgument(Command.java:304)\n",
            "\tat org.apache.hadoop.fs.shell.Command.processArgument(Command.java:286)\n",
            "\tat org.apache.hadoop.fs.shell.Command.processArguments(Command.java:270)\n",
            "\tat org.apache.hadoop.fs.shell.FsCommand.processRawArguments(FsCommand.java:120)\n",
            "\tat org.apache.hadoop.fs.shell.Command.run(Command.java:177)\n",
            "\tat org.apache.hadoop.fs.FsShell.run(FsShell.java:327)\n",
            "\tat org.apache.hadoop.util.ToolRunner.run(ToolRunner.java:76)\n",
            "\tat org.apache.hadoop.util.ToolRunner.run(ToolRunner.java:90)\n",
            "\tat org.apache.hadoop.fs.FsShell.main(FsShell.java:390)\n",
            "2025-03-13 14:51:17,720 WARN hdfs.DFSClient: No live nodes contain block BP-661195382-172.28.0.12-1741877155949:blk_1073741832_1008 after checking nodes = [DatanodeInfoWithStorage[127.0.0.1:9866,DS-9149215c-6dd2-4239-a0a3-7ed0c7f679ca,DISK]], ignoredNodes = null\n",
            "2025-03-13 14:51:17,726 INFO hdfs.DFSClient: Could not obtain BP-661195382-172.28.0.12-1741877155949:blk_1073741832_1008 from any node:  No live nodes contain current block Block locations: DatanodeInfoWithStorage[127.0.0.1:9866,DS-9149215c-6dd2-4239-a0a3-7ed0c7f679ca,DISK] Dead nodes:  DatanodeInfoWithStorage[127.0.0.1:9866,DS-9149215c-6dd2-4239-a0a3-7ed0c7f679ca,DISK]. Will get new block locations from namenode and retry...\n",
            "2025-03-13 14:51:17,726 WARN hdfs.DFSClient: DFS chooseDataNode: got # 1 IOException, will wait for 2626.3471658398794 msec.\n",
            "2025-03-13 14:51:20,356 WARN impl.BlockReaderFactory: I/O error constructing remote block reader.\n",
            "java.net.ConnectException: Connection refused\n",
            "\tat sun.nio.ch.SocketChannelImpl.checkConnect(Native Method)\n",
            "\tat sun.nio.ch.SocketChannelImpl.finishConnect(SocketChannelImpl.java:716)\n",
            "\tat org.apache.hadoop.net.SocketIOWithTimeout.connect(SocketIOWithTimeout.java:205)\n",
            "\tat org.apache.hadoop.net.NetUtils.connect(NetUtils.java:535)\n",
            "\tat org.apache.hadoop.hdfs.DFSClient.newConnectedPeer(DFSClient.java:2973)\n",
            "\tat org.apache.hadoop.hdfs.client.impl.BlockReaderFactory.nextTcpPeer(BlockReaderFactory.java:826)\n",
            "\tat org.apache.hadoop.hdfs.client.impl.BlockReaderFactory.getRemoteBlockReaderFromTcp(BlockReaderFactory.java:751)\n",
            "\tat org.apache.hadoop.hdfs.client.impl.BlockReaderFactory.build(BlockReaderFactory.java:381)\n",
            "\tat org.apache.hadoop.hdfs.DFSInputStream.getBlockReader(DFSInputStream.java:733)\n",
            "\tat org.apache.hadoop.hdfs.DFSInputStream.blockSeekTo(DFSInputStream.java:664)\n",
            "\tat org.apache.hadoop.hdfs.DFSInputStream.readWithStrategy(DFSInputStream.java:849)\n",
            "\tat org.apache.hadoop.hdfs.DFSInputStream.read(DFSInputStream.java:921)\n",
            "\tat java.io.DataInputStream.read(DataInputStream.java:100)\n",
            "\tat org.apache.hadoop.io.IOUtils.copyBytes(IOUtils.java:94)\n",
            "\tat org.apache.hadoop.io.IOUtils.copyBytes(IOUtils.java:68)\n",
            "\tat org.apache.hadoop.io.IOUtils.copyBytes(IOUtils.java:129)\n",
            "\tat org.apache.hadoop.fs.shell.Display$Cat.printToStdout(Display.java:101)\n",
            "\tat org.apache.hadoop.fs.shell.Display$Cat.processPath(Display.java:96)\n",
            "\tat org.apache.hadoop.fs.shell.Command.processPathInternal(Command.java:367)\n",
            "\tat org.apache.hadoop.fs.shell.Command.processPaths(Command.java:331)\n",
            "\tat org.apache.hadoop.fs.shell.Command.processPathArgument(Command.java:304)\n",
            "\tat org.apache.hadoop.fs.shell.Command.processArgument(Command.java:286)\n",
            "\tat org.apache.hadoop.fs.shell.Command.processArguments(Command.java:270)\n",
            "\tat org.apache.hadoop.fs.shell.FsCommand.processRawArguments(FsCommand.java:120)\n",
            "\tat org.apache.hadoop.fs.shell.Command.run(Command.java:177)\n",
            "\tat org.apache.hadoop.fs.FsShell.run(FsShell.java:327)\n",
            "\tat org.apache.hadoop.util.ToolRunner.run(ToolRunner.java:76)\n",
            "\tat org.apache.hadoop.util.ToolRunner.run(ToolRunner.java:90)\n",
            "\tat org.apache.hadoop.fs.FsShell.main(FsShell.java:390)\n",
            "2025-03-13 14:51:20,357 WARN hdfs.DFSClient: Failed to connect to /127.0.0.1:9866 for file /word_count_with_python/output/part-00000 for block BP-661195382-172.28.0.12-1741877155949:blk_1073741832_1008, add to deadNodes and continue. \n",
            "java.net.ConnectException: Connection refused\n",
            "\tat sun.nio.ch.SocketChannelImpl.checkConnect(Native Method)\n",
            "\tat sun.nio.ch.SocketChannelImpl.finishConnect(SocketChannelImpl.java:716)\n",
            "\tat org.apache.hadoop.net.SocketIOWithTimeout.connect(SocketIOWithTimeout.java:205)\n",
            "\tat org.apache.hadoop.net.NetUtils.connect(NetUtils.java:535)\n",
            "\tat org.apache.hadoop.hdfs.DFSClient.newConnectedPeer(DFSClient.java:2973)\n",
            "\tat org.apache.hadoop.hdfs.client.impl.BlockReaderFactory.nextTcpPeer(BlockReaderFactory.java:826)\n",
            "\tat org.apache.hadoop.hdfs.client.impl.BlockReaderFactory.getRemoteBlockReaderFromTcp(BlockReaderFactory.java:751)\n",
            "\tat org.apache.hadoop.hdfs.client.impl.BlockReaderFactory.build(BlockReaderFactory.java:381)\n",
            "\tat org.apache.hadoop.hdfs.DFSInputStream.getBlockReader(DFSInputStream.java:733)\n",
            "\tat org.apache.hadoop.hdfs.DFSInputStream.blockSeekTo(DFSInputStream.java:664)\n",
            "\tat org.apache.hadoop.hdfs.DFSInputStream.readWithStrategy(DFSInputStream.java:849)\n",
            "\tat org.apache.hadoop.hdfs.DFSInputStream.read(DFSInputStream.java:921)\n",
            "\tat java.io.DataInputStream.read(DataInputStream.java:100)\n",
            "\tat org.apache.hadoop.io.IOUtils.copyBytes(IOUtils.java:94)\n",
            "\tat org.apache.hadoop.io.IOUtils.copyBytes(IOUtils.java:68)\n",
            "\tat org.apache.hadoop.io.IOUtils.copyBytes(IOUtils.java:129)\n",
            "\tat org.apache.hadoop.fs.shell.Display$Cat.printToStdout(Display.java:101)\n",
            "\tat org.apache.hadoop.fs.shell.Display$Cat.processPath(Display.java:96)\n",
            "\tat org.apache.hadoop.fs.shell.Command.processPathInternal(Command.java:367)\n",
            "\tat org.apache.hadoop.fs.shell.Command.processPaths(Command.java:331)\n",
            "\tat org.apache.hadoop.fs.shell.Command.processPathArgument(Command.java:304)\n",
            "\tat org.apache.hadoop.fs.shell.Command.processArgument(Command.java:286)\n",
            "\tat org.apache.hadoop.fs.shell.Command.processArguments(Command.java:270)\n",
            "\tat org.apache.hadoop.fs.shell.FsCommand.processRawArguments(FsCommand.java:120)\n",
            "\tat org.apache.hadoop.fs.shell.Command.run(Command.java:177)\n",
            "\tat org.apache.hadoop.fs.FsShell.run(FsShell.java:327)\n",
            "\tat org.apache.hadoop.util.ToolRunner.run(ToolRunner.java:76)\n",
            "\tat org.apache.hadoop.util.ToolRunner.run(ToolRunner.java:90)\n",
            "\tat org.apache.hadoop.fs.FsShell.main(FsShell.java:390)\n",
            "2025-03-13 14:51:20,358 WARN hdfs.DFSClient: No live nodes contain block BP-661195382-172.28.0.12-1741877155949:blk_1073741832_1008 after checking nodes = [DatanodeInfoWithStorage[127.0.0.1:9866,DS-9149215c-6dd2-4239-a0a3-7ed0c7f679ca,DISK]], ignoredNodes = null\n",
            "2025-03-13 14:51:20,358 INFO hdfs.DFSClient: Could not obtain BP-661195382-172.28.0.12-1741877155949:blk_1073741832_1008 from any node:  No live nodes contain current block Block locations: DatanodeInfoWithStorage[127.0.0.1:9866,DS-9149215c-6dd2-4239-a0a3-7ed0c7f679ca,DISK] Dead nodes:  DatanodeInfoWithStorage[127.0.0.1:9866,DS-9149215c-6dd2-4239-a0a3-7ed0c7f679ca,DISK]. Will get new block locations from namenode and retry...\n",
            "2025-03-13 14:51:20,358 WARN hdfs.DFSClient: DFS chooseDataNode: got # 2 IOException, will wait for 3625.327476055477 msec.\n",
            "2025-03-13 14:51:23,987 WARN impl.BlockReaderFactory: I/O error constructing remote block reader.\n",
            "java.net.ConnectException: Connection refused\n",
            "\tat sun.nio.ch.SocketChannelImpl.checkConnect(Native Method)\n",
            "\tat sun.nio.ch.SocketChannelImpl.finishConnect(SocketChannelImpl.java:716)\n",
            "\tat org.apache.hadoop.net.SocketIOWithTimeout.connect(SocketIOWithTimeout.java:205)\n",
            "\tat org.apache.hadoop.net.NetUtils.connect(NetUtils.java:535)\n",
            "\tat org.apache.hadoop.hdfs.DFSClient.newConnectedPeer(DFSClient.java:2973)\n",
            "\tat org.apache.hadoop.hdfs.client.impl.BlockReaderFactory.nextTcpPeer(BlockReaderFactory.java:826)\n",
            "\tat org.apache.hadoop.hdfs.client.impl.BlockReaderFactory.getRemoteBlockReaderFromTcp(BlockReaderFactory.java:751)\n",
            "\tat org.apache.hadoop.hdfs.client.impl.BlockReaderFactory.build(BlockReaderFactory.java:381)\n",
            "\tat org.apache.hadoop.hdfs.DFSInputStream.getBlockReader(DFSInputStream.java:733)\n",
            "\tat org.apache.hadoop.hdfs.DFSInputStream.blockSeekTo(DFSInputStream.java:664)\n",
            "\tat org.apache.hadoop.hdfs.DFSInputStream.readWithStrategy(DFSInputStream.java:849)\n",
            "\tat org.apache.hadoop.hdfs.DFSInputStream.read(DFSInputStream.java:921)\n",
            "\tat java.io.DataInputStream.read(DataInputStream.java:100)\n",
            "\tat org.apache.hadoop.io.IOUtils.copyBytes(IOUtils.java:94)\n",
            "\tat org.apache.hadoop.io.IOUtils.copyBytes(IOUtils.java:68)\n",
            "\tat org.apache.hadoop.io.IOUtils.copyBytes(IOUtils.java:129)\n",
            "\tat org.apache.hadoop.fs.shell.Display$Cat.printToStdout(Display.java:101)\n",
            "\tat org.apache.hadoop.fs.shell.Display$Cat.processPath(Display.java:96)\n",
            "\tat org.apache.hadoop.fs.shell.Command.processPathInternal(Command.java:367)\n",
            "\tat org.apache.hadoop.fs.shell.Command.processPaths(Command.java:331)\n",
            "\tat org.apache.hadoop.fs.shell.Command.processPathArgument(Command.java:304)\n",
            "\tat org.apache.hadoop.fs.shell.Command.processArgument(Command.java:286)\n",
            "\tat org.apache.hadoop.fs.shell.Command.processArguments(Command.java:270)\n",
            "\tat org.apache.hadoop.fs.shell.FsCommand.processRawArguments(FsCommand.java:120)\n",
            "\tat org.apache.hadoop.fs.shell.Command.run(Command.java:177)\n",
            "\tat org.apache.hadoop.fs.FsShell.run(FsShell.java:327)\n",
            "\tat org.apache.hadoop.util.ToolRunner.run(ToolRunner.java:76)\n",
            "\tat org.apache.hadoop.util.ToolRunner.run(ToolRunner.java:90)\n",
            "\tat org.apache.hadoop.fs.FsShell.main(FsShell.java:390)\n",
            "2025-03-13 14:51:23,988 WARN hdfs.DFSClient: Failed to connect to /127.0.0.1:9866 for file /word_count_with_python/output/part-00000 for block BP-661195382-172.28.0.12-1741877155949:blk_1073741832_1008, add to deadNodes and continue. \n",
            "java.net.ConnectException: Connection refused\n",
            "\tat sun.nio.ch.SocketChannelImpl.checkConnect(Native Method)\n",
            "\tat sun.nio.ch.SocketChannelImpl.finishConnect(SocketChannelImpl.java:716)\n",
            "\tat org.apache.hadoop.net.SocketIOWithTimeout.connect(SocketIOWithTimeout.java:205)\n",
            "\tat org.apache.hadoop.net.NetUtils.connect(NetUtils.java:535)\n",
            "\tat org.apache.hadoop.hdfs.DFSClient.newConnectedPeer(DFSClient.java:2973)\n",
            "\tat org.apache.hadoop.hdfs.client.impl.BlockReaderFactory.nextTcpPeer(BlockReaderFactory.java:826)\n",
            "\tat org.apache.hadoop.hdfs.client.impl.BlockReaderFactory.getRemoteBlockReaderFromTcp(BlockReaderFactory.java:751)\n",
            "\tat org.apache.hadoop.hdfs.client.impl.BlockReaderFactory.build(BlockReaderFactory.java:381)\n",
            "\tat org.apache.hadoop.hdfs.DFSInputStream.getBlockReader(DFSInputStream.java:733)\n",
            "\tat org.apache.hadoop.hdfs.DFSInputStream.blockSeekTo(DFSInputStream.java:664)\n",
            "\tat org.apache.hadoop.hdfs.DFSInputStream.readWithStrategy(DFSInputStream.java:849)\n",
            "\tat org.apache.hadoop.hdfs.DFSInputStream.read(DFSInputStream.java:921)\n",
            "\tat java.io.DataInputStream.read(DataInputStream.java:100)\n",
            "\tat org.apache.hadoop.io.IOUtils.copyBytes(IOUtils.java:94)\n",
            "\tat org.apache.hadoop.io.IOUtils.copyBytes(IOUtils.java:68)\n",
            "\tat org.apache.hadoop.io.IOUtils.copyBytes(IOUtils.java:129)\n",
            "\tat org.apache.hadoop.fs.shell.Display$Cat.printToStdout(Display.java:101)\n",
            "\tat org.apache.hadoop.fs.shell.Display$Cat.processPath(Display.java:96)\n",
            "\tat org.apache.hadoop.fs.shell.Command.processPathInternal(Command.java:367)\n",
            "\tat org.apache.hadoop.fs.shell.Command.processPaths(Command.java:331)\n",
            "\tat org.apache.hadoop.fs.shell.Command.processPathArgument(Command.java:304)\n",
            "\tat org.apache.hadoop.fs.shell.Command.processArgument(Command.java:286)\n",
            "\tat org.apache.hadoop.fs.shell.Command.processArguments(Command.java:270)\n",
            "\tat org.apache.hadoop.fs.shell.FsCommand.processRawArguments(FsCommand.java:120)\n",
            "\tat org.apache.hadoop.fs.shell.Command.run(Command.java:177)\n",
            "\tat org.apache.hadoop.fs.FsShell.run(FsShell.java:327)\n",
            "\tat org.apache.hadoop.util.ToolRunner.run(ToolRunner.java:76)\n",
            "\tat org.apache.hadoop.util.ToolRunner.run(ToolRunner.java:90)\n",
            "\tat org.apache.hadoop.fs.FsShell.main(FsShell.java:390)\n",
            "2025-03-13 14:51:23,989 WARN hdfs.DFSClient: No live nodes contain block BP-661195382-172.28.0.12-1741877155949:blk_1073741832_1008 after checking nodes = [DatanodeInfoWithStorage[127.0.0.1:9866,DS-9149215c-6dd2-4239-a0a3-7ed0c7f679ca,DISK]], ignoredNodes = null\n",
            "2025-03-13 14:51:23,989 INFO hdfs.DFSClient: Could not obtain BP-661195382-172.28.0.12-1741877155949:blk_1073741832_1008 from any node:  No live nodes contain current block Block locations: DatanodeInfoWithStorage[127.0.0.1:9866,DS-9149215c-6dd2-4239-a0a3-7ed0c7f679ca,DISK] Dead nodes:  DatanodeInfoWithStorage[127.0.0.1:9866,DS-9149215c-6dd2-4239-a0a3-7ed0c7f679ca,DISK]. Will get new block locations from namenode and retry...\n",
            "2025-03-13 14:51:23,989 WARN hdfs.DFSClient: DFS chooseDataNode: got # 3 IOException, will wait for 8597.907868433795 msec.\n",
            "2025-03-13 14:51:32,650 WARN impl.BlockReaderFactory: I/O error constructing remote block reader.\n",
            "java.net.ConnectException: Connection refused\n",
            "\tat sun.nio.ch.SocketChannelImpl.checkConnect(Native Method)\n",
            "\tat sun.nio.ch.SocketChannelImpl.finishConnect(SocketChannelImpl.java:716)\n",
            "\tat org.apache.hadoop.net.SocketIOWithTimeout.connect(SocketIOWithTimeout.java:205)\n",
            "\tat org.apache.hadoop.net.NetUtils.connect(NetUtils.java:535)\n",
            "\tat org.apache.hadoop.hdfs.DFSClient.newConnectedPeer(DFSClient.java:2973)\n",
            "\tat org.apache.hadoop.hdfs.client.impl.BlockReaderFactory.nextTcpPeer(BlockReaderFactory.java:826)\n",
            "\tat org.apache.hadoop.hdfs.client.impl.BlockReaderFactory.getRemoteBlockReaderFromTcp(BlockReaderFactory.java:751)\n",
            "\tat org.apache.hadoop.hdfs.client.impl.BlockReaderFactory.build(BlockReaderFactory.java:381)\n",
            "\tat org.apache.hadoop.hdfs.DFSInputStream.getBlockReader(DFSInputStream.java:733)\n",
            "\tat org.apache.hadoop.hdfs.DFSInputStream.blockSeekTo(DFSInputStream.java:664)\n",
            "\tat org.apache.hadoop.hdfs.DFSInputStream.readWithStrategy(DFSInputStream.java:849)\n",
            "\tat org.apache.hadoop.hdfs.DFSInputStream.read(DFSInputStream.java:921)\n",
            "\tat java.io.DataInputStream.read(DataInputStream.java:100)\n",
            "\tat org.apache.hadoop.io.IOUtils.copyBytes(IOUtils.java:94)\n",
            "\tat org.apache.hadoop.io.IOUtils.copyBytes(IOUtils.java:68)\n",
            "\tat org.apache.hadoop.io.IOUtils.copyBytes(IOUtils.java:129)\n",
            "\tat org.apache.hadoop.fs.shell.Display$Cat.printToStdout(Display.java:101)\n",
            "\tat org.apache.hadoop.fs.shell.Display$Cat.processPath(Display.java:96)\n",
            "\tat org.apache.hadoop.fs.shell.Command.processPathInternal(Command.java:367)\n",
            "\tat org.apache.hadoop.fs.shell.Command.processPaths(Command.java:331)\n",
            "\tat org.apache.hadoop.fs.shell.Command.processPathArgument(Command.java:304)\n",
            "\tat org.apache.hadoop.fs.shell.Command.processArgument(Command.java:286)\n",
            "\tat org.apache.hadoop.fs.shell.Command.processArguments(Command.java:270)\n",
            "\tat org.apache.hadoop.fs.shell.FsCommand.processRawArguments(FsCommand.java:120)\n",
            "\tat org.apache.hadoop.fs.shell.Command.run(Command.java:177)\n",
            "\tat org.apache.hadoop.fs.FsShell.run(FsShell.java:327)\n",
            "\tat org.apache.hadoop.util.ToolRunner.run(ToolRunner.java:76)\n",
            "\tat org.apache.hadoop.util.ToolRunner.run(ToolRunner.java:90)\n",
            "\tat org.apache.hadoop.fs.FsShell.main(FsShell.java:390)\n",
            "2025-03-13 14:51:32,651 WARN hdfs.DFSClient: Failed to connect to /127.0.0.1:9866 for file /word_count_with_python/output/part-00000 for block BP-661195382-172.28.0.12-1741877155949:blk_1073741832_1008, add to deadNodes and continue. \n",
            "java.net.ConnectException: Connection refused\n",
            "\tat sun.nio.ch.SocketChannelImpl.checkConnect(Native Method)\n",
            "\tat sun.nio.ch.SocketChannelImpl.finishConnect(SocketChannelImpl.java:716)\n",
            "\tat org.apache.hadoop.net.SocketIOWithTimeout.connect(SocketIOWithTimeout.java:205)\n",
            "\tat org.apache.hadoop.net.NetUtils.connect(NetUtils.java:535)\n",
            "\tat org.apache.hadoop.hdfs.DFSClient.newConnectedPeer(DFSClient.java:2973)\n",
            "\tat org.apache.hadoop.hdfs.client.impl.BlockReaderFactory.nextTcpPeer(BlockReaderFactory.java:826)\n",
            "\tat org.apache.hadoop.hdfs.client.impl.BlockReaderFactory.getRemoteBlockReaderFromTcp(BlockReaderFactory.java:751)\n",
            "\tat org.apache.hadoop.hdfs.client.impl.BlockReaderFactory.build(BlockReaderFactory.java:381)\n",
            "\tat org.apache.hadoop.hdfs.DFSInputStream.getBlockReader(DFSInputStream.java:733)\n",
            "\tat org.apache.hadoop.hdfs.DFSInputStream.blockSeekTo(DFSInputStream.java:664)\n",
            "\tat org.apache.hadoop.hdfs.DFSInputStream.readWithStrategy(DFSInputStream.java:849)\n",
            "\tat org.apache.hadoop.hdfs.DFSInputStream.read(DFSInputStream.java:921)\n",
            "\tat java.io.DataInputStream.read(DataInputStream.java:100)\n",
            "\tat org.apache.hadoop.io.IOUtils.copyBytes(IOUtils.java:94)\n",
            "\tat org.apache.hadoop.io.IOUtils.copyBytes(IOUtils.java:68)\n",
            "\tat org.apache.hadoop.io.IOUtils.copyBytes(IOUtils.java:129)\n",
            "\tat org.apache.hadoop.fs.shell.Display$Cat.printToStdout(Display.java:101)\n",
            "\tat org.apache.hadoop.fs.shell.Display$Cat.processPath(Display.java:96)\n",
            "\tat org.apache.hadoop.fs.shell.Command.processPathInternal(Command.java:367)\n",
            "\tat org.apache.hadoop.fs.shell.Command.processPaths(Command.java:331)\n",
            "\tat org.apache.hadoop.fs.shell.Command.processPathArgument(Command.java:304)\n",
            "\tat org.apache.hadoop.fs.shell.Command.processArgument(Command.java:286)\n",
            "\tat org.apache.hadoop.fs.shell.Command.processArguments(Command.java:270)\n",
            "\tat org.apache.hadoop.fs.shell.FsCommand.processRawArguments(FsCommand.java:120)\n",
            "\tat org.apache.hadoop.fs.shell.Command.run(Command.java:177)\n",
            "\tat org.apache.hadoop.fs.FsShell.run(FsShell.java:327)\n",
            "\tat org.apache.hadoop.util.ToolRunner.run(ToolRunner.java:76)\n",
            "\tat org.apache.hadoop.util.ToolRunner.run(ToolRunner.java:90)\n",
            "\tat org.apache.hadoop.fs.FsShell.main(FsShell.java:390)\n",
            "2025-03-13 14:51:32,652 WARN hdfs.DFSClient: No live nodes contain block BP-661195382-172.28.0.12-1741877155949:blk_1073741832_1008 after checking nodes = [DatanodeInfoWithStorage[127.0.0.1:9866,DS-9149215c-6dd2-4239-a0a3-7ed0c7f679ca,DISK]], ignoredNodes = null\n",
            "2025-03-13 14:51:32,652 INFO hdfs.DFSClient: Could not obtain BP-661195382-172.28.0.12-1741877155949:blk_1073741832_1008 from any node:  No live nodes contain current block Block locations: DatanodeInfoWithStorage[127.0.0.1:9866,DS-9149215c-6dd2-4239-a0a3-7ed0c7f679ca,DISK] Dead nodes:  DatanodeInfoWithStorage[127.0.0.1:9866,DS-9149215c-6dd2-4239-a0a3-7ed0c7f679ca,DISK]. Will get new block locations from namenode and retry...\n",
            "2025-03-13 14:51:32,652 WARN hdfs.DFSClient: DFS chooseDataNode: got # 3 IOException, will wait for 11391.611148100685 msec.\n",
            "2025-03-13 14:51:44,045 WARN hdfs.DFSClient: DFS Read\n",
            "java.net.ConnectException: Call From 2ff5eb2dc3ee/172.28.0.12 to localhost:9000 failed on connection exception: java.net.ConnectException: Connection refused; For more details see:  http://wiki.apache.org/hadoop/ConnectionRefused\n",
            "\tat sun.reflect.NativeConstructorAccessorImpl.newInstance0(Native Method)\n",
            "\tat sun.reflect.NativeConstructorAccessorImpl.newInstance(NativeConstructorAccessorImpl.java:62)\n",
            "\tat sun.reflect.DelegatingConstructorAccessorImpl.newInstance(DelegatingConstructorAccessorImpl.java:45)\n",
            "\tat java.lang.reflect.Constructor.newInstance(Constructor.java:423)\n",
            "\tat org.apache.hadoop.net.NetUtils.wrapWithMessage(NetUtils.java:842)\n",
            "\tat org.apache.hadoop.net.NetUtils.wrapException(NetUtils.java:761)\n",
            "\tat org.apache.hadoop.ipc.Client.getRpcResponse(Client.java:1616)\n",
            "\tat org.apache.hadoop.ipc.Client.call(Client.java:1558)\n",
            "\tat org.apache.hadoop.ipc.Client.call(Client.java:1455)\n",
            "\tat org.apache.hadoop.ipc.ProtobufRpcEngine$Invoker.invoke(ProtobufRpcEngine.java:231)\n",
            "\tat org.apache.hadoop.ipc.ProtobufRpcEngine$Invoker.invoke(ProtobufRpcEngine.java:118)\n",
            "\tat com.sun.proxy.$Proxy9.getBlockLocations(Unknown Source)\n",
            "\tat org.apache.hadoop.hdfs.protocolPB.ClientNamenodeProtocolTranslatorPB.getBlockLocations(ClientNamenodeProtocolTranslatorPB.java:327)\n",
            "\tat sun.reflect.NativeMethodAccessorImpl.invoke0(Native Method)\n",
            "\tat sun.reflect.NativeMethodAccessorImpl.invoke(NativeMethodAccessorImpl.java:62)\n",
            "\tat sun.reflect.DelegatingMethodAccessorImpl.invoke(DelegatingMethodAccessorImpl.java:43)\n",
            "\tat java.lang.reflect.Method.invoke(Method.java:498)\n",
            "\tat org.apache.hadoop.io.retry.RetryInvocationHandler.invokeMethod(RetryInvocationHandler.java:433)\n",
            "\tat org.apache.hadoop.io.retry.RetryInvocationHandler$Call.invokeMethod(RetryInvocationHandler.java:166)\n",
            "\tat org.apache.hadoop.io.retry.RetryInvocationHandler$Call.invoke(RetryInvocationHandler.java:158)\n",
            "\tat org.apache.hadoop.io.retry.RetryInvocationHandler$Call.invokeOnce(RetryInvocationHandler.java:96)\n",
            "\tat org.apache.hadoop.io.retry.RetryInvocationHandler.invoke(RetryInvocationHandler.java:362)\n",
            "\tat com.sun.proxy.$Proxy10.getBlockLocations(Unknown Source)\n",
            "\tat org.apache.hadoop.hdfs.DFSClient.callGetBlockLocations(DFSClient.java:877)\n",
            "\tat org.apache.hadoop.hdfs.DFSClient.getLocatedBlocks(DFSClient.java:866)\n",
            "\tat org.apache.hadoop.hdfs.DFSClient.getLocatedBlocks(DFSClient.java:855)\n",
            "\tat org.apache.hadoop.hdfs.DFSInputStream.fetchLocatedBlocksAndGetLastBlockLength(DFSInputStream.java:313)\n",
            "\tat org.apache.hadoop.hdfs.DFSInputStream.openInfo(DFSInputStream.java:231)\n",
            "\tat org.apache.hadoop.hdfs.DFSInputStream.refetchLocations(DFSInputStream.java:1006)\n",
            "\tat org.apache.hadoop.hdfs.DFSInputStream.chooseDataNode(DFSInputStream.java:954)\n",
            "\tat org.apache.hadoop.hdfs.DFSInputStream.chooseDataNode(DFSInputStream.java:933)\n",
            "\tat org.apache.hadoop.hdfs.DFSInputStream.blockSeekTo(DFSInputStream.java:656)\n",
            "\tat org.apache.hadoop.hdfs.DFSInputStream.readWithStrategy(DFSInputStream.java:849)\n",
            "\tat org.apache.hadoop.hdfs.DFSInputStream.read(DFSInputStream.java:921)\n",
            "\tat java.io.DataInputStream.read(DataInputStream.java:100)\n",
            "\tat org.apache.hadoop.io.IOUtils.copyBytes(IOUtils.java:94)\n",
            "\tat org.apache.hadoop.io.IOUtils.copyBytes(IOUtils.java:68)\n",
            "\tat org.apache.hadoop.io.IOUtils.copyBytes(IOUtils.java:129)\n",
            "\tat org.apache.hadoop.fs.shell.Display$Cat.printToStdout(Display.java:101)\n",
            "\tat org.apache.hadoop.fs.shell.Display$Cat.processPath(Display.java:96)\n",
            "\tat org.apache.hadoop.fs.shell.Command.processPathInternal(Command.java:367)\n",
            "\tat org.apache.hadoop.fs.shell.Command.processPaths(Command.java:331)\n",
            "\tat org.apache.hadoop.fs.shell.Command.processPathArgument(Command.java:304)\n",
            "\tat org.apache.hadoop.fs.shell.Command.processArgument(Command.java:286)\n",
            "\tat org.apache.hadoop.fs.shell.Command.processArguments(Command.java:270)\n",
            "\tat org.apache.hadoop.fs.shell.FsCommand.processRawArguments(FsCommand.java:120)\n",
            "\tat org.apache.hadoop.fs.shell.Command.run(Command.java:177)\n",
            "\tat org.apache.hadoop.fs.FsShell.run(FsShell.java:327)\n",
            "\tat org.apache.hadoop.util.ToolRunner.run(ToolRunner.java:76)\n",
            "\tat org.apache.hadoop.util.ToolRunner.run(ToolRunner.java:90)\n",
            "\tat org.apache.hadoop.fs.FsShell.main(FsShell.java:390)\n",
            "Caused by: java.net.ConnectException: Connection refused\n",
            "\tat sun.nio.ch.SocketChannelImpl.checkConnect(Native Method)\n",
            "\tat sun.nio.ch.SocketChannelImpl.finishConnect(SocketChannelImpl.java:716)\n",
            "\tat org.apache.hadoop.net.SocketIOWithTimeout.connect(SocketIOWithTimeout.java:205)\n",
            "\tat org.apache.hadoop.net.NetUtils.connect(NetUtils.java:535)\n",
            "\tat org.apache.hadoop.ipc.Client$Connection.setupConnection(Client.java:711)\n",
            "\tat org.apache.hadoop.ipc.Client$Connection.setupIOstreams(Client.java:833)\n",
            "\tat org.apache.hadoop.ipc.Client$Connection.access$3800(Client.java:414)\n",
            "\tat org.apache.hadoop.ipc.Client.getConnection(Client.java:1677)\n",
            "\tat org.apache.hadoop.ipc.Client.call(Client.java:1502)\n",
            "\t... 43 more\n",
            "cat: Call From 2ff5eb2dc3ee/172.28.0.12 to localhost:9000 failed on connection exception: java.net.ConnectException: Connection refused; For more details see:  http://wiki.apache.org/hadoop/ConnectionRefused\n"
          ]
        }
      ],
      "source": [
        "#Printing out first 50 lines\n",
        "!$HADOOP_HOME/bin/hdfs dfs -cat /word_count_with_python/output/part-00000 | head -50"
      ]
    },
    {
      "cell_type": "code",
      "execution_count": null,
      "metadata": {
        "id": "7wrU43Da5rrW"
      },
      "outputs": [],
      "source": [
        "# copy file hdfs-wordcount.txt dari HDFS ke local\n",
        "!$HADOOP_HOME/bin/hdfs dfs -copyToLocal /word_count_with_python/output/part-00000 /content/output-hdfs-wordcount.txt"
      ]
    }
  ],
  "metadata": {
    "colab": {
      "provenance": []
    },
    "kernelspec": {
      "display_name": "Python 3",
      "name": "python3"
    },
    "language_info": {
      "name": "python"
    }
  },
  "nbformat": 4,
  "nbformat_minor": 0
}